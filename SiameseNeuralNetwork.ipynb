{
  "metadata": {
    "kernelspec": {
      "language": "python",
      "display_name": "Python 3",
      "name": "python3"
    },
    "language_info": {
      "name": "python",
      "version": "3.10.12",
      "mimetype": "text/x-python",
      "codemirror_mode": {
        "name": "ipython",
        "version": 3
      },
      "pygments_lexer": "ipython3",
      "nbconvert_exporter": "python",
      "file_extension": ".py"
    },
    "kaggle": {
      "accelerator": "none",
      "dataSources": [
        {
          "sourceId": 1874973,
          "sourceType": "datasetVersion",
          "datasetId": 1116181
        },
        {
          "sourceId": 2851068,
          "sourceType": "kernelVersion"
        }
      ],
      "dockerImageVersionId": 30822,
      "isInternetEnabled": true,
      "language": "python",
      "sourceType": "notebook",
      "isGpuEnabled": false
    },
    "colab": {
      "name": "SiameseNeuralNetwork",
      "provenance": [],
      "include_colab_link": true
    }
  },
  "nbformat_minor": 0,
  "nbformat": 4,
  "cells": [
    {
      "cell_type": "markdown",
      "metadata": {
        "id": "view-in-github",
        "colab_type": "text"
      },
      "source": [
        "<a href=\"https://colab.research.google.com/github/bansaldolly527-lab/deeplearningproj/blob/main/SiameseNeuralNetwork.ipynb\" target=\"_parent\"><img src=\"https://colab.research.google.com/assets/colab-badge.svg\" alt=\"Open In Colab\"/></a>"
      ]
    },
    {
      "source": [
        "# IMPORTANT: RUN THIS CELL IN ORDER TO IMPORT YOUR KAGGLE DATA SOURCES,\n",
        "# THEN FEEL FREE TO DELETE THIS CELL.\n",
        "# NOTE: THIS NOTEBOOK ENVIRONMENT DIFFERS FROM KAGGLE'S PYTHON\n",
        "# ENVIRONMENT SO THERE MAY BE MISSING LIBRARIES USED BY YOUR\n",
        "# NOTEBOOK.\n",
        "import kagglehub\n",
        "saurabhbagchi_ship_and_iceberg_images_path = kagglehub.dataset_download('saurabhbagchi/ship-and-iceberg-images')\n",
        "arpandhatt_siamese_neural_networks_path = kagglehub.notebook_output_download('arpandhatt/siamese-neural-networks')\n",
        "\n",
        "print('Data source import complete.')\n"
      ],
      "metadata": {
        "id": "51OZ24CE6r0Z"
      },
      "cell_type": "code",
      "outputs": [],
      "execution_count": null
    },
    {
      "cell_type": "code",
      "source": [
        "# This Python 3 environment comes with many helpful analytics libraries installed\n",
        "# It is defined by the kaggle/python Docker image: https://github.com/kaggle/docker-python\n",
        "# For example, here's several helpful packages to load\n",
        "\n",
        "import numpy as np # linear algebra\n",
        "import pandas as pd # data processing, CSV file I/O (e.g. pd.read_csv)\n",
        "\n",
        "# Input data files are available in the read-only \"../input/\" directory\n",
        "# For example, running this (by clicking run or pressing Shift+Enter) will list all files under the input directory\n",
        "\n",
        "import os\n",
        "for dirname, _, filenames in os.walk('/kaggle/input'):\n",
        "    for filename in filenames:\n",
        "        print(os.path.join(dirname, filename))\n",
        "\n",
        "# You can write up to 20GB to the current directory (/kaggle/working/) that gets preserved as output when you create a version using \"Save & Run All\"\n",
        "# You can also write temporary files to /kaggle/temp/, but they won't be saved outside of the current session"
      ],
      "metadata": {
        "_uuid": "8f2839f25d086af736a60e9eeb907d3b93b6e0e5",
        "_cell_guid": "b1076dfc-b9ad-4769-8c92-a6c4dae69d19",
        "trusted": true,
        "id": "PvX_AGny6r0b"
      },
      "outputs": [],
      "execution_count": null
    },
    {
      "cell_type": "code",
      "source": [
        "import numpy as np\n",
        "import torch\n",
        "from torch import nn\n",
        "import pandas as pd\n",
        "import torchvision.datasets as datasets\n",
        "\n",
        "# Define the batch size (e.g., 4 pairs of images)\n",
        "N = 4\n",
        "\n",
        "# Create two NumPy arrays (image pairs), each of shape (N, 28, 28, 3)\n",
        "# Random values between 0 and 255 representing pixel values for RGB images\n",
        "image_array_1 = np.random.randint(0, 256, (N, 28, 28, 3), dtype=np.uint8)\n",
        "image_array_2 = np.random.randint(0, 256, (N, 28, 28, 3), dtype=np.uint8)\n",
        "\n",
        "# Create a label array with values 0 or 1 (0 for different classes, 1 for same class)\n",
        "# For this example, let's assume some random labels\n",
        "labels = np.random.randint(0, 2, N)\n",
        "\n",
        "# Display the shapes of the arrays\n",
        "print(\"Image Array 1 Shape:\", image_array_1.shape)  # (4, 28, 28, 3)\n",
        "print(\"Image Array 2 Shape:\", image_array_2.shape)  # (4, 28, 28, 3)\n",
        "print(\"Labels Shape:\", labels.shape)  # (4,)\n",
        "\n",
        "# Example output (just printing the label values)\n",
        "print(\"Labels:\", labels)\n"
      ],
      "metadata": {
        "trusted": true,
        "execution": {
          "iopub.status.busy": "2024-12-30T07:50:32.459712Z",
          "iopub.execute_input": "2024-12-30T07:50:32.460051Z",
          "iopub.status.idle": "2024-12-30T07:50:38.366749Z",
          "shell.execute_reply.started": "2024-12-30T07:50:32.460024Z",
          "shell.execute_reply": "2024-12-30T07:50:38.365408Z"
        },
        "id": "sf0_4x4T6r0c",
        "outputId": "cb22fc11-a2ca-49c2-c3e9-49c24d923c21"
      },
      "outputs": [
        {
          "name": "stdout",
          "text": "Image Array 1 Shape: (4, 28, 28, 3)\nImage Array 2 Shape: (4, 28, 28, 3)\nLabels Shape: (4,)\nLabels: [1 1 1 1]\n",
          "output_type": "stream"
        }
      ],
      "execution_count": null
    },
    {
      "cell_type": "code",
      "source": [
        "class SNN(nn.Module):\n",
        "    def __init__(self,in_channels, out_channels, kernel_size=3, stride=1):\n",
        "        super().__init__()\n",
        "\n",
        "        self.layer1 = nn.Conv2d(3, 16, kernel_size=3, padding=1)  # Conv2D layer with padding='same'\n",
        "        self.relu1 = nn.ReLU()\n",
        "        self.pool1 = nn.MaxPool2d(kernel_size=2, stride=2, padding=0)  # MaxPooling2D layer with 2x2 pool size\n",
        "\n",
        "        self.layer2 = nn.Conv2d(16, 8, kernel_size=3, padding=1)  # Conv2D layer with padding='same'\n",
        "        self.relu2 = nn.ReLU()\n",
        "        self.pool2 = nn.MaxPool2d(kernel_size=2, stride=2, padding=0)  # MaxPooling2D layer with 2x2 pool size\n",
        "\n",
        "        self.flatten = nn.Flatten()  # Flatten layer\n",
        "\n",
        "    def forward(self, x):\n",
        "        # Pass through the layers\n",
        "        x = self.layer1(x)\n",
        "        x = self.relu1(x)\n",
        "        x = self.pool1(x)\n",
        "\n",
        "        x = self.layer2(x)\n",
        "        x = self.relu2(x)\n",
        "        x = self.pool2(x)\n",
        "\n",
        "        x = self.flatten(x)\n",
        "        return x\n",
        "\n",
        "# Create the model instance\n",
        "model = SNN(3,16)\n",
        "\n",
        "# Print the model architecture\n",
        "print(model)"
      ],
      "metadata": {
        "trusted": true,
        "execution": {
          "iopub.status.busy": "2024-12-30T06:57:51.772632Z",
          "iopub.execute_input": "2024-12-30T06:57:51.772943Z",
          "iopub.status.idle": "2024-12-30T06:57:51.806616Z",
          "shell.execute_reply.started": "2024-12-30T06:57:51.772919Z",
          "shell.execute_reply": "2024-12-30T06:57:51.805542Z"
        },
        "id": "quPn75rS6r0e",
        "outputId": "de56661f-b6f3-430a-e3d4-b543e8bc956a"
      },
      "outputs": [
        {
          "name": "stdout",
          "text": "SNN(\n  (layer1): Conv2d(3, 16, kernel_size=(3, 3), stride=(1, 1), padding=(1, 1))\n  (relu1): ReLU()\n  (pool1): MaxPool2d(kernel_size=2, stride=2, padding=0, dilation=1, ceil_mode=False)\n  (layer2): Conv2d(16, 8, kernel_size=(3, 3), stride=(1, 1), padding=(1, 1))\n  (relu2): ReLU()\n  (pool2): MaxPool2d(kernel_size=2, stride=2, padding=0, dilation=1, ceil_mode=False)\n  (flatten): Flatten(start_dim=1, end_dim=-1)\n)\n",
          "output_type": "stream"
        }
      ],
      "execution_count": null
    },
    {
      "cell_type": "code",
      "source": [
        "npz = np.load('/kaggle/input/ship-and-iceberg-images/input_data.npz')\n",
        "X_train = npz['X_train']\n",
        "Y_train = npz['Y_train']\n",
        "del npz\n",
        "print ('We have {} examples to work with'.format(Y_train.shape[0]-1000))"
      ],
      "metadata": {
        "trusted": true,
        "execution": {
          "iopub.status.busy": "2024-12-30T07:00:37.425967Z",
          "iopub.execute_input": "2024-12-30T07:00:37.426312Z",
          "iopub.status.idle": "2024-12-30T07:00:46.460741Z",
          "shell.execute_reply.started": "2024-12-30T07:00:37.426286Z",
          "shell.execute_reply": "2024-12-30T07:00:46.459624Z"
        },
        "id": "zJHRjTDh6r0g",
        "outputId": "c95cdd6a-575b-41b8-e4d8-edaa30076c51"
      },
      "outputs": [
        {
          "name": "stdout",
          "text": "We have 3113 examples to work with\n",
          "output_type": "stream"
        }
      ],
      "execution_count": null
    },
    {
      "cell_type": "code",
      "source": [],
      "metadata": {
        "trusted": true,
        "id": "RcuJ-Uwy6r0h"
      },
      "outputs": [],
      "execution_count": null
    }
  ]
}